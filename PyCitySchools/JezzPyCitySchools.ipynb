{
 "cells": [
  {
   "cell_type": "code",
   "execution_count": null,
   "id": "8bf41413",
   "metadata": {},
   "outputs": [],
   "source": [
    "# Dependencies and Setup\n",
    "import pandas as pd"
   ]
  },
  {
   "cell_type": "code",
   "execution_count": null,
   "id": "93a85003",
   "metadata": {},
   "outputs": [],
   "source": [
    "# File to Load (Remember to Change These)\n",
    "school_data_to_load = \"Resources/schools_complete.csv\"\n",
    "student_data_to_load = \"Resources/students_complete.csv\""
   ]
  },
  {
   "cell_type": "code",
   "execution_count": null,
   "id": "973bf213",
   "metadata": {},
   "outputs": [],
   "source": [
    "# Read School and Student Data File and store into Pandas DataFrames\n",
    "school_data = pd.read_csv(school_data_to_load)\n",
    "student_data = pd.read_csv(student_data_to_load)"
   ]
  },
  {
   "cell_type": "code",
   "execution_count": null,
   "id": "9972d872",
   "metadata": {},
   "outputs": [],
   "source": [
    "# Combine the data into a single dataset.  \n",
    "sdmerged_df = pd.merge(student_data, school_data, how=\"left\", on=[\"school_name\", \"school_name\"])"
   ]
  },
  {
   "cell_type": "code",
   "execution_count": null,
   "id": "097d306f",
   "metadata": {},
   "outputs": [],
   "source": [
    "#sdmerged_df\n",
    "\n",
    "\n"
   ]
  },
  {
   "cell_type": "code",
   "execution_count": null,
   "id": "9fc8c539",
   "metadata": {},
   "outputs": [],
   "source": [
    "school_count = len(sdmerged_df[\"school_name\"].unique())\n",
    "school_count"
   ]
  },
  {
   "cell_type": "code",
   "execution_count": null,
   "id": "e4f7efd3",
   "metadata": {},
   "outputs": [],
   "source": [
    "student_count = len(sdmerged_df[\"student_name\"])\n",
    "student_count\n"
   ]
  },
  {
   "cell_type": "code",
   "execution_count": null,
   "id": "ddc92faa",
   "metadata": {},
   "outputs": [],
   "source": [
    "total_budget = school_data[\"budget\"].sum()\n",
    "total_budget\n",
    "\n",
    "\n",
    "\n"
   ]
  },
  {
   "cell_type": "code",
   "execution_count": null,
   "id": "ed757eec",
   "metadata": {},
   "outputs": [],
   "source": [
    "mathsav = sdmerged_df[\"maths_score\"].mean()\n",
    "mathsav"
   ]
  },
  {
   "cell_type": "code",
   "execution_count": null,
   "id": "ae93cd39",
   "metadata": {},
   "outputs": [],
   "source": [
    "readingav = sdmerged_df[\"reading_score\"].mean()\n",
    "readingav"
   ]
  },
  {
   "cell_type": "code",
   "execution_count": null,
   "id": "3ecc5f3c",
   "metadata": {},
   "outputs": [],
   "source": [
    "mathspass_df = sdmerged_df.loc[sdmerged_df[\"maths_score\"] >= 50, [\"school_name\", \"maths_score\"]]\n",
    "mcount = len(mathspass_df)\n",
    "mpasspercent = (100* (mcount/student_count))\n",
    "#mathspass_df\n",
    "#mpasspercent"
   ]
  },
  {
   "cell_type": "code",
   "execution_count": null,
   "id": "45b835a7",
   "metadata": {},
   "outputs": [],
   "source": [
    "readpass_df = sdmerged_df.loc[sdmerged_df[\"reading_score\"] >= 50, [\"school_name\", \"maths_score\", \"reading_score\"]]\n",
    "rcount = len(readpass_df)\n",
    "rpasspercent = (100* (rcount/student_count))\n",
    "#readpass_df\n",
    "#rpasspercent"
   ]
  },
  {
   "cell_type": "code",
   "execution_count": null,
   "id": "372ef337",
   "metadata": {},
   "outputs": [],
   "source": [
    "bothpass_df = readpass_df.loc[sdmerged_df[\"maths_score\"] >= 50, [\"school_name\", \"maths_score\", \"reading_score\"]]\n",
    "bcount = len(bothpass_df)\n",
    "bpasspercent = (100* (bcount/student_count))\n",
    "#bothpass_df \n",
    "#bpasspercent"
   ]
  },
  {
   "cell_type": "code",
   "execution_count": null,
   "id": "7f03d1bf",
   "metadata": {},
   "outputs": [],
   "source": [
    "#LGA Summary \n",
    "summary_df = pd.DataFrame({\"Total Schools\": [school_count], \"Total Students\": [student_count], \"Total Budget\": total_budget, \"Average Maths Score\": mathsav, \"Average Reading Score\": readingav, \"% Passing Maths\": mpasspercent, \"% Passing Reading\": rpasspercent, \"% Overall Passing\": bpasspercent})\n",
    "summary_df[\"Total Students\"] = summary_df[\"Total Students\"].map(\"{:,}\".format)\n",
    "summary_df[\"Total Budget\"] = '$'+ summary_df[\"Total Budget\"].map(\"{:,}\".format)\n",
    "\n",
    "summary_df"
   ]
  },
  {
   "cell_type": "code",
   "execution_count": null,
   "id": "84e75624",
   "metadata": {},
   "outputs": [],
   "source": [
    "reducedstu_df = student_data[[\"school_name\", \"reading_score\", \"maths_score\"]]\n",
    "#reducedstu_df.head(10)\n",
    "#means_df = reducedstu_df.groupby(['school_name']).mean()"
   ]
  },
  {
   "cell_type": "code",
   "execution_count": null,
   "id": "c8db6917",
   "metadata": {},
   "outputs": [],
   "source": [
    "grouped_sch_df = pd.DataFrame(reducedstu_df.groupby(\"school_name\")[\"reading_score\", \"maths_score\"].mean())\n",
    "#grouped_sch_df"
   ]
  },
  {
   "cell_type": "code",
   "execution_count": null,
   "id": "75b9ca86",
   "metadata": {},
   "outputs": [],
   "source": [
    "mpasscnt_df = pd.DataFrame(mathspass_df.groupby([\"school_name\"])[\"maths_score\"].count())\n",
    "#mpasscnt_df[\"maths_score\".dtype\n",
    "#mpasscnt_df\n",
    "\n",
    "\n"
   ]
  },
  {
   "cell_type": "code",
   "execution_count": null,
   "id": "02b85957",
   "metadata": {},
   "outputs": [],
   "source": [
    "rpasscnt_df = pd.DataFrame(readpass_df.groupby([\"school_name\"])[\"reading_score\"].count())\n",
    "#rpasscnt_df"
   ]
  },
  {
   "cell_type": "code",
   "execution_count": null,
   "id": "37989f10",
   "metadata": {},
   "outputs": [],
   "source": [
    "bpasscnt_df = pd.DataFrame(bothpass_df.groupby([\"school_name\"])[\"maths_score\"].count())\n",
    "#bpasscnt_df"
   ]
  },
  {
   "cell_type": "code",
   "execution_count": null,
   "id": "400cd533",
   "metadata": {},
   "outputs": [],
   "source": [
    "merge1_df = pd.merge(mpasscnt_df, rpasscnt_df, on=\"school_name\", how=\"left\")\n",
    "#merge1_df"
   ]
  },
  {
   "cell_type": "code",
   "execution_count": null,
   "id": "d8cad130",
   "metadata": {},
   "outputs": [],
   "source": [
    "merge2_df = pd.merge(merge1_df, bpasscnt_df, on=\"school_name\", how=\"left\")\n",
    "#merge2_df"
   ]
  },
  {
   "cell_type": "code",
   "execution_count": null,
   "id": "a07a637f",
   "metadata": {},
   "outputs": [],
   "source": [
    "merge3_df = pd.merge(merge2_df, grouped_sch_df, on=\"school_name\", how=\"left\")\n",
    "#merge3_df"
   ]
  },
  {
   "cell_type": "code",
   "execution_count": null,
   "id": "c6f57b30",
   "metadata": {},
   "outputs": [],
   "source": [
    "dropschool_df = school_data.drop([\"School ID\"], axis=1)\n",
    "sortschool_df = dropschool_df.sort_values(by=[\"school_name\"])\n",
    "#sortschool_df"
   ]
  },
  {
   "cell_type": "code",
   "execution_count": null,
   "id": "3672d2b6",
   "metadata": {},
   "outputs": [],
   "source": [
    "merge4_df = pd.merge(sortschool_df, merge3_df, on=\"school_name\", how=\"left\")\n",
    "#merge4_df"
   ]
  },
  {
   "cell_type": "code",
   "execution_count": null,
   "id": "12d6f804",
   "metadata": {},
   "outputs": [],
   "source": [
    "merge4_df[\"% Passing Maths\"] = (merge4_df[\"maths_score_x\"]/merge4_df[\"size\"] * 100)\n",
    "#merge4_df                                                    "
   ]
  },
  {
   "cell_type": "code",
   "execution_count": null,
   "id": "aacac462",
   "metadata": {},
   "outputs": [],
   "source": [
    "merge4_df[\"% Passing Reading\"] = (merge4_df[\"reading_score_x\"]/merge4_df[\"size\"] * 100)"
   ]
  },
  {
   "cell_type": "code",
   "execution_count": null,
   "id": "b08b33eb",
   "metadata": {},
   "outputs": [],
   "source": [
    "merge4_df[\"Overall Passing\"] = (merge4_df[\"maths_score_y\"]/merge4_df[\"size\"] * 100)\n",
    "#merge4_df"
   ]
  },
  {
   "cell_type": "code",
   "execution_count": null,
   "id": "20f5339a",
   "metadata": {},
   "outputs": [],
   "source": [
    "merge4_df = merge4_df.drop([\"maths_score_x\", \"reading_score_x\", \"maths_score_y\"], axis=1)\n",
    "#merge4_df"
   ]
  },
  {
   "cell_type": "code",
   "execution_count": null,
   "id": "467f9e26",
   "metadata": {},
   "outputs": [],
   "source": [
    "merge4_df[\"Per Student Budget\"] = merge4_df[\"budget\"]/merge4_df[\"size\"]\n",
    "#merge4_df"
   ]
  },
  {
   "cell_type": "code",
   "execution_count": null,
   "id": "5006c920",
   "metadata": {},
   "outputs": [],
   "source": [
    "finschool_df = merge4_df[[\"school_name\",\"type\",\"size\",\"budget\",\"Per Student Budget\",\"reading_score_y\",\"maths_score\",\"% Passing Maths\",\"% Passing Reading\",\"Overall Passing\"]]"
   ]
  },
  {
   "cell_type": "code",
   "execution_count": null,
   "id": "b208d3da",
   "metadata": {},
   "outputs": [],
   "source": [
    "finalschool_df =  finschool_df.set_index('school_name')\n",
    "#finalschool_df"
   ]
  },
  {
   "cell_type": "code",
   "execution_count": null,
   "id": "70756ba9",
   "metadata": {},
   "outputs": [],
   "source": [
    "#School Summary\n",
    "finalschool_df  = finalschool_df .rename(columns={\"budget\":\"Total School Budget\", \"reading_score_y\":\"Average Maths Score\", \"type\":\"School Type\", \"size\":\"Total Students\", \"maths_score\":\"Average Reading Score\"})\n",
    "finalschool_df                                          "
   ]
  },
  {
   "cell_type": "code",
   "execution_count": null,
   "id": "5c805cf2",
   "metadata": {},
   "outputs": [],
   "source": [
    "#top 5\n",
    "sfinalschool_df = pd.DataFrame(finalschool_df.sort_values(\"Overall Passing\", ascending=False))\n",
    "sfinalschool_df.head(5)"
   ]
  },
  {
   "cell_type": "code",
   "execution_count": null,
   "id": "63492514",
   "metadata": {},
   "outputs": [],
   "source": [
    "#bottom 5\n",
    "sfinalschool_df.tail(5)"
   ]
  },
  {
   "cell_type": "code",
   "execution_count": null,
   "id": "ca90d67d",
   "metadata": {},
   "outputs": [],
   "source": [
    "yearsprerp_df = sdmerged_df[[\"year\", \"school_name\", \"reading_score\", \"maths_score\"]]\n",
    "#yearsprerp_df"
   ]
  },
  {
   "cell_type": "code",
   "execution_count": null,
   "id": "6dd32e60",
   "metadata": {},
   "outputs": [],
   "source": [
    "year9_df = yearsprerp_df.loc[sdmerged_df[\"year\"] == 9, [\"school_name\", \"maths_score\", \"reading_score\"]]\n",
    "year9_df = year9_df.rename(columns={\"maths_score\":\"Year 9\"})\n",
    "#year9_df"
   ]
  },
  {
   "cell_type": "code",
   "execution_count": null,
   "id": "af018527",
   "metadata": {},
   "outputs": [],
   "source": [
    "grpyr9m_df = pd.DataFrame(year9_df.groupby(\"school_name\")[\"Year 9\"].mean())\n",
    "#grpyr9m_df"
   ]
  },
  {
   "cell_type": "code",
   "execution_count": null,
   "id": "5b6e28b6",
   "metadata": {},
   "outputs": [],
   "source": [
    "year10_df = yearsprerp_df.loc[sdmerged_df[\"year\"] == 10, [\"school_name\", \"maths_score\", \"reading_score\"]]\n",
    "year10_df = year10_df.rename(columns={\"maths_score\":\"Year 10\"})"
   ]
  },
  {
   "cell_type": "code",
   "execution_count": null,
   "id": "b7a7c254",
   "metadata": {},
   "outputs": [],
   "source": [
    "grpyr10m_df = pd.DataFrame(year10_df.groupby(\"school_name\")[\"Year 10\"].mean())\n",
    "#grpyr10m_df"
   ]
  },
  {
   "cell_type": "code",
   "execution_count": null,
   "id": "7ba5a66e",
   "metadata": {},
   "outputs": [],
   "source": [
    "year11_df = yearsprerp_df.loc[sdmerged_df[\"year\"] == 11, [\"school_name\", \"maths_score\", \"reading_score\"]]\n",
    "year11_df = year11_df.rename(columns={\"maths_score\":\"Year 11\"})"
   ]
  },
  {
   "cell_type": "code",
   "execution_count": null,
   "id": "e2060e2e",
   "metadata": {},
   "outputs": [],
   "source": [
    "grpyr11m_df = pd.DataFrame(year11_df.groupby(\"school_name\")[\"Year 11\"].mean())\n",
    "#grpyr11m_df"
   ]
  },
  {
   "cell_type": "code",
   "execution_count": null,
   "id": "9e69204c",
   "metadata": {},
   "outputs": [],
   "source": [
    "year12_df = yearsprerp_df.loc[sdmerged_df[\"year\"] == 12, [\"school_name\", \"maths_score\", \"reading_score\"]]\n",
    "year12_df = year12_df.rename(columns={\"maths_score\":\"Year 12\"})"
   ]
  },
  {
   "cell_type": "code",
   "execution_count": null,
   "id": "d607ab0d",
   "metadata": {},
   "outputs": [],
   "source": [
    "grpyr12m_df = pd.DataFrame(year12_df.groupby(\"school_name\")[\"Year 12\"].mean())\n",
    "#grpyr12m_df"
   ]
  },
  {
   "cell_type": "code",
   "execution_count": null,
   "id": "13f7bc5e",
   "metadata": {},
   "outputs": [],
   "source": [
    "mathmerge1_df= pd.merge(grpyr9m_df, grpyr10m_df, on=\"school_name\", how=\"left\")\n",
    "#mathmerge1_df"
   ]
  },
  {
   "cell_type": "code",
   "execution_count": null,
   "id": "a09b8d6f",
   "metadata": {},
   "outputs": [],
   "source": [
    "mathmerge2_df= pd.merge(mathmerge1_df, grpyr11m_df, on=\"school_name\", how=\"left\")\n",
    "#mathmerge2_df"
   ]
  },
  {
   "cell_type": "code",
   "execution_count": null,
   "id": "77399481",
   "metadata": {},
   "outputs": [],
   "source": [
    "#disply maths by year level\n",
    "mathmerge3_df= pd.merge(mathmerge2_df, grpyr12m_df, on=\"school_name\", how=\"left\")\n",
    "mathmerge3_df"
   ]
  },
  {
   "cell_type": "code",
   "execution_count": null,
   "id": "cc8f05d7",
   "metadata": {},
   "outputs": [],
   "source": [
    "year9r_df = year9_df.drop([\"Year 9\"], axis=1)\n",
    "year9r_df = year9r_df.rename(columns={\"reading_score\":\"Year 9\"})\n",
    "#year9r_df"
   ]
  },
  {
   "cell_type": "code",
   "execution_count": null,
   "id": "fc55eab2",
   "metadata": {},
   "outputs": [],
   "source": [
    "grpyr9r_df = pd.DataFrame(year9r_df.groupby(\"school_name\")[\"Year 9\"].mean())\n",
    "#grpyr9r_df"
   ]
  },
  {
   "cell_type": "code",
   "execution_count": null,
   "id": "7e2b3a5e",
   "metadata": {},
   "outputs": [],
   "source": [
    "year10r_df = year10_df.drop([\"Year 10\"], axis=1)\n",
    "year10r_df = year10r_df.rename(columns={\"reading_score\":\"Year 10\"})"
   ]
  },
  {
   "cell_type": "code",
   "execution_count": null,
   "id": "8e72f665",
   "metadata": {},
   "outputs": [],
   "source": [
    "grpyr10r_df = pd.DataFrame(year10r_df.groupby(\"school_name\")[\"Year 10\"].mean())\n",
    "#grpyr10r_df"
   ]
  },
  {
   "cell_type": "code",
   "execution_count": null,
   "id": "4209017f",
   "metadata": {},
   "outputs": [],
   "source": [
    "year11r_df = year11_df.drop([\"Year 11\"], axis=1)\n",
    "year11r_df = year11r_df.rename(columns={\"reading_score\":\"Year 11\"})\n"
   ]
  },
  {
   "cell_type": "code",
   "execution_count": null,
   "id": "01e80d93",
   "metadata": {},
   "outputs": [],
   "source": [
    "grpyr11r_df = pd.DataFrame(year11r_df.groupby(\"school_name\")[\"Year 11\"].mean())\n",
    "#grpyr11r_df"
   ]
  },
  {
   "cell_type": "code",
   "execution_count": null,
   "id": "3ec24690",
   "metadata": {},
   "outputs": [],
   "source": [
    "year12r_df = year12_df.drop([\"Year 12\"], axis=1)\n",
    "year12r_df = year12r_df.rename(columns={\"reading_score\":\"Year 12\"})\n"
   ]
  },
  {
   "cell_type": "code",
   "execution_count": null,
   "id": "f57a4feb",
   "metadata": {},
   "outputs": [],
   "source": [
    "grpyr12r_df = pd.DataFrame(year12r_df.groupby(\"school_name\")[\"Year 12\"].mean())\n",
    "#grpyr12r_df"
   ]
  },
  {
   "cell_type": "code",
   "execution_count": null,
   "id": "cd4f92ef",
   "metadata": {},
   "outputs": [],
   "source": [
    "readmerge1_df= pd.merge(grpyr9r_df, grpyr10r_df, on=\"school_name\", how=\"left\")\n"
   ]
  },
  {
   "cell_type": "code",
   "execution_count": null,
   "id": "8ddafb3b",
   "metadata": {},
   "outputs": [],
   "source": [
    "readmerge2_df= pd.merge(readmerge1_df, grpyr11r_df, on=\"school_name\", how=\"left\")\n"
   ]
  },
  {
   "cell_type": "code",
   "execution_count": null,
   "id": "d906a193",
   "metadata": {},
   "outputs": [],
   "source": [
    "#display reading\n",
    "readmerge3_df= pd.merge(readmerge2_df, grpyr12r_df, on=\"school_name\", how=\"left\")\n",
    "readmerge3_df"
   ]
  },
  {
   "cell_type": "code",
   "execution_count": null,
   "id": "d95432b0",
   "metadata": {},
   "outputs": [],
   "source": [
    "binschool_df = finalschool_df.drop([\"School Type\", \"Total Students\", \"Total School Budget\"], axis=1)\n",
    "binschool_df[\"Spending Ranges\"] = pd.cut(binschool_df[\"Per Student Budget\"], [0, 585,630, 645, 680], labels=[\"0 to 585\", \"585 to 630\", \"630 to 645\", \"645 to 680\"])\n",
    "binschool2_df = pd.DataFrame(binschool_df.groupby(\"Spending Ranges\")[\"Average Maths Score\", \"Average Reading Score\", \"% Passing Maths\",\"% Passing Reading\", \"Overall Passing\"].mean())\n",
    "binschool2_df"
   ]
  },
  {
   "cell_type": "code",
   "execution_count": null,
   "id": "1b56ac98",
   "metadata": {},
   "outputs": [],
   "source": [
    "binschool3_df = finalschool_df.drop([\"School Type\", \"Per Student Budget\", \"Total School Budget\"], axis=1)\n",
    "binschool3_df[\"School Size\"] = pd.cut(binschool3_df[\"Total Students\"], [0, 1000, 2000, 5000], labels=[\"Small(<1000)\", \"Medium(1000 - 2000)\", \"Large(2000 - 5000)\"])\n",
    "binschool4_df = pd.DataFrame(binschool3_df.groupby(\"School Size\")[\"Average Maths Score\", \"Average Reading Score\", \"% Passing Maths\",\"% Passing Reading\", \"Overall Passing\"].mean())\n",
    "binschool4_df"
   ]
  },
  {
   "cell_type": "code",
   "execution_count": null,
   "id": "826951c1",
   "metadata": {},
   "outputs": [],
   "source": [
    "binschool5_df = finalschool_df.drop([\"Total Students\", \"Per Student Budget\", \"Total School Budget\"], axis=1)\n",
    "binschool6_df = pd.DataFrame(binschool5_df.groupby(\"School Type\")[\"Average Maths Score\", \"Average Reading Score\", \"% Passing Maths\",\"% Passing Reading\", \"Overall Passing\"].mean())\n",
    "binschool6_df"
   ]
  },
  {
   "cell_type": "code",
   "execution_count": null,
   "id": "a7f54e58",
   "metadata": {},
   "outputs": [],
   "source": [
    "#Written Report\n",
    "#In general there doesnb't appear to be huge variation in average maths and reading scores between schools and between year levels.\n",
    "#There appears to be more variation in percentage of students that passed.\n",
    "#One conclusion according to this data is that Independent Schools performed better than Government Schools especially when it comes to percentage of students that passed subjects, whether it be overall average or prevalencein the top and bottom 5 preforming schools.\n",
    "#A second conclusion is and increase in spend per student by a schoool did not lead to increased performace in aavergae scores of students of percenatges that passed"
   ]
  }
 ],
 "metadata": {
  "kernelspec": {
   "display_name": "Python 3 (ipykernel)",
   "language": "python",
   "name": "python3"
  },
  "language_info": {
   "codemirror_mode": {
    "name": "ipython",
    "version": 3
   },
   "file_extension": ".py",
   "mimetype": "text/x-python",
   "name": "python",
   "nbconvert_exporter": "python",
   "pygments_lexer": "ipython3",
   "version": "3.9.13"
  }
 },
 "nbformat": 4,
 "nbformat_minor": 5
}
